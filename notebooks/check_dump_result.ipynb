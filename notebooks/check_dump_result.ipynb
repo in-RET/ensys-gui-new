{
 "cells": [
  {
   "metadata": {
    "collapsed": true,
    "ExecuteTime": {
     "end_time": "2025-09-17T11:27:22.005150Z",
     "start_time": "2025-09-17T11:27:16.312154Z"
    }
   },
   "cell_type": "code",
   "source": [
    "from backend.app.results.automatic_cost_calc import cost_calculation_from_energysystem\n",
    "import os\n",
    "\n",
    "from oemof import solph\n",
    "\n",
    "simulation_token = \"32e5b1d8-4b49-414f-b336-20557b2b4113\"\n",
    "simulations_path = os.path.abspath(\n",
    "    os.path.join(os.getcwd(), '..', 'storage', 'simulations', simulation_token, \"dump\")\n",
    ")\n",
    "print(simulations_path)\n",
    "\n",
    "dump_path = os.path.join(simulations_path, simulation_token, \"dump\", \"oemof_es.dump\")\n",
    "# Prüfen Sie, ob die Datei existiert und nicht leer ist\n",
    "if os.path.exists(os.path.join(simulations_path, \"oemof_es.dump\")):\n",
    "    file_size = os.path.getsize(os.path.join(simulations_path, \"oemof_es.dump\"))\n",
    "    print(f\"Dateigröße: {file_size} Bytes\")\n",
    "\n",
    "es = solph.EnergySystem()\n",
    "es.restore(\n",
    "    dpath=os.path.join(simulations_path),\n",
    "    filename='oemof_es.dump'\n",
    ")\n",
    "\n",
    "### Ab hier kopieren\n",
    "components = []\n",
    "busses = []\n",
    "result_data = []\n",
    "\n",
    "for node in es.nodes:\n",
    "    if isinstance(node, solph.Bus):\n",
    "        print(f\"Bus: {node}\")\n",
    "        busses.append(node)\n",
    "    else:\n",
    "        components.append(node)\n",
    "\n",
    "costs = cost_calculation_from_energysystem(es)\n",
    "print(f\"Costs: {costs}\")\n",
    "\n",
    "#print(result_data)\n"
   ],
   "id": "8e63d366034cc53a",
   "outputs": [
    {
     "name": "stdout",
     "output_type": "stream",
     "text": [
      "/Users/pyrokar/Documents/Coding/ensys-gui-new/storage/simulations/32e5b1d8-4b49-414f-b336-20557b2b4113/dump\n",
      "Dateigröße: 360001 Bytes\n",
      "Bus: electricity\n",
      "Costs:       investment costs  variable costs  profits\n",
      "grid               NaN      1224.75402      NaN\n"
     ]
    },
    {
     "name": "stderr",
     "output_type": "stream",
     "text": [
      "/Users/pyrokar/Documents/Coding/ensys-gui-new/.venv/lib/python3.12/site-packages/oemof/network/energy_system.py:205: ExperimentalFeatureWarning: The API to access nodes by label is experimental and might change without prior notice.\n",
      "  warnings.warn(msg, debugging.ExperimentalFeatureWarning)\n"
     ]
    }
   ],
   "execution_count": 1
  },
  {
   "metadata": {},
   "cell_type": "code",
   "outputs": [],
   "source": "",
   "id": "f53c0f5f3cf12a20",
   "execution_count": null
  }
 ],
 "metadata": {
  "kernelspec": {
   "display_name": "Python 3",
   "language": "python",
   "name": "python3"
  },
  "language_info": {
   "codemirror_mode": {
    "name": "ipython",
    "version": 2
   },
   "file_extension": ".py",
   "mimetype": "text/x-python",
   "name": "python",
   "nbconvert_exporter": "python",
   "pygments_lexer": "ipython2",
   "version": "2.7.6"
  }
 },
 "nbformat": 4,
 "nbformat_minor": 5
}
