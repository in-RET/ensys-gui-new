{
 "cells": [
  {
   "metadata": {
    "ExecuteTime": {
     "end_time": "2025-08-12T05:55:59.747724Z",
     "start_time": "2025-08-12T05:55:59.744209Z"
    }
   },
   "cell_type": "code",
   "source": [
    "from backend.app.ensys.common.types import OepTypes\n",
    "\n",
    "block_type = \"source\"\n",
    "\n",
    "schema_list = []\n",
    "\n",
    "for entry in OepTypes:\n",
    "    # print(f\"{entry.name} ==> {entry.value[1]}\")\n",
    "    if entry.value[1] == block_type:\n",
    "        schema_list.append(entry.name)\n",
    "\n",
    "print(schema_list)"
   ],
   "id": "4e7cfe3b99572101",
   "outputs": [
    {
     "name": "stdout",
     "output_type": "stream",
     "text": [
      "['fuel_cells', 'hydrogen_feed_in', 'onshore_wind_power_plant', 'rooftop_photovoltaic_power_plant', 'run_river_power_plant', 'solar_thermal_power_plant']\n"
     ]
    }
   ],
   "execution_count": 8
  },
  {
   "metadata": {
    "ExecuteTime": {
     "end_time": "2025-08-12T05:55:11.358149Z",
     "start_time": "2025-08-12T05:55:11.356534Z"
    }
   },
   "cell_type": "code",
   "source": "",
   "id": "7f3809bb07303f88",
   "outputs": [],
   "execution_count": null
  },
  {
   "metadata": {},
   "cell_type": "code",
   "outputs": [],
   "execution_count": null,
   "source": "",
   "id": "5f4072b86ef74d8d"
  }
 ],
 "metadata": {
  "kernelspec": {
   "display_name": "Python 3",
   "language": "python",
   "name": "python3"
  },
  "language_info": {
   "codemirror_mode": {
    "name": "ipython",
    "version": 2
   },
   "file_extension": ".py",
   "mimetype": "text/x-python",
   "name": "python",
   "nbconvert_exporter": "python",
   "pygments_lexer": "ipython2",
   "version": "2.7.6"
  }
 },
 "nbformat": 4,
 "nbformat_minor": 5
}
