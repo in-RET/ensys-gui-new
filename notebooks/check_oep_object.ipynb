{
 "cells": [
  {
   "metadata": {
    "ExecuteTime": {
     "end_time": "2025-07-03T09:21:41.072622Z",
     "start_time": "2025-07-03T09:21:40.492058Z"
    }
   },
   "cell_type": "code",
   "source": [
    "from backend.app.ensys.components import EnEnergysystem, EnFlow, EnBus\n",
    "from backend.app.ensys.components.genericstorage import OepGenericStorage\n",
    "\n",
    "es = EnEnergysystem()\n",
    "es.add(\n",
    "    EnBus(\n",
    "        label=\"Strombus\",\n",
    "    )\n",
    ")\n",
    "es.add(\n",
    "    OepGenericStorage(\n",
    "        label=\"Batteriespeicher\",\n",
    "        inputs={\n",
    "            \"Strombus\": EnFlow()\n",
    "        },\n",
    "        outputs={\n",
    "            \"Strombus\": EnFlow()\n",
    "        }\n",
    "    )\n",
    ")\n",
    "\n",
    "print(es.model_dump_json())"
   ],
   "id": "e17ebae2c5bce502",
   "outputs": [
    {
     "name": "stdout",
     "output_type": "stream",
     "text": [
      "{\"busses\":[{\"label\":\"Strombus\",\"balanced\":true}],\"sinks\":[],\"sources\":[],\"converters\":[],\"generic_storages\":[{\"label\":\"Batteriespeicher\",\"inputs\":{\"Strombus\":{}},\"outputs\":{\"Strombus\":{}}}],\"constraints\":[]}\n"
     ]
    }
   ],
   "execution_count": 2
  },
  {
   "metadata": {
    "ExecuteTime": {
     "end_time": "2025-07-03T09:23:14.691930Z",
     "start_time": "2025-07-03T09:23:14.688032Z"
    }
   },
   "cell_type": "code",
   "source": [
    "from oemof import solph\n",
    "\n",
    "oemof_es = solph.EnergySystem()\n",
    "\n",
    "translated_es = es.to_oemof(oemof_es)\n",
    "\n",
    "print(translated_es.nodes)"
   ],
   "id": "5549c52b3ae61cd7",
   "outputs": [
    {
     "name": "stdout",
     "output_type": "stream",
     "text": [
      "dict_values([\"<oemof.solph.buses._bus.Bus: 'Strombus'>\", \"<oemof.solph.components._generic_storage.GenericStorage: 'Batteriespeicher'>\"])\n"
     ]
    }
   ],
   "execution_count": 10
  },
  {
   "metadata": {},
   "cell_type": "code",
   "outputs": [],
   "execution_count": null,
   "source": "",
   "id": "eaf70a3e5e060a13"
  }
 ],
 "metadata": {
  "kernelspec": {
   "display_name": "Python 3",
   "language": "python",
   "name": "python3"
  },
  "language_info": {
   "codemirror_mode": {
    "name": "ipython",
    "version": 2
   },
   "file_extension": ".py",
   "mimetype": "text/x-python",
   "name": "python",
   "nbconvert_exporter": "python",
   "pygments_lexer": "ipython2",
   "version": "2.7.6"
  }
 },
 "nbformat": 4,
 "nbformat_minor": 5
}
