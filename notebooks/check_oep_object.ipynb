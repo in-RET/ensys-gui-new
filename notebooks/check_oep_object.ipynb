{
 "cells": [
  {
   "metadata": {
    "ExecuteTime": {
     "end_time": "2025-07-17T07:33:05.585232Z",
     "start_time": "2025-07-17T07:33:04.874822Z"
    }
   },
   "cell_type": "code",
   "source": [
    "from datetime import date\n",
    "\n",
    "from oemof import solph\n",
    "\n",
    "from backend.app.ensys.common.types import OepTypes\n",
    "from backend.app.ensys.components import OepGenericStorage, EnEnergysystem, EnBus, EnFlow\n",
    "\n",
    "es = EnEnergysystem()\n",
    "es.add(\n",
    "    EnBus(\n",
    "        label=\"Strombus\",\n",
    "    )\n",
    ")\n",
    "es.add(\n",
    "    OepGenericStorage(\n",
    "        label=\"Batteriespeicher\",\n",
    "        type=OepTypes.electricity_storage,\n",
    "        inputs={\n",
    "            \"Strombus\": EnFlow()\n",
    "        },\n",
    "        outputs={\n",
    "            \"Strombus\": EnFlow()\n",
    "        }\n",
    "    )\n",
    ")\n",
    "\n",
    "# print(es.model_dump_json())\n",
    "timeindex = solph.create_time_index(\n",
    "    start=date(\n",
    "        year=2025,\n",
    "        month=1,\n",
    "        day=1,\n",
    "    ),\n",
    "    number=8760,\n",
    "    interval=1,\n",
    ")\n",
    "\n",
    "oemof_es = solph.EnergySystem(\n",
    "    timeindex=timeindex\n",
    ")\n",
    "\n",
    "translated_es = es.to_oemof(oemof_es)\n",
    "\n",
    "print(translated_es.nodes)"
   ],
   "id": "e17ebae2c5bce502",
   "outputs": [
    {
     "name": "stdout",
     "output_type": "stream",
     "text": [
      "OEP-File: /Users/pyrokar/Documents/Coding/ensys-gui-new/storage/oep/generic_storage/storage_electricity.csv\n",
      "dict_values([\"<oemof.solph.buses._bus.Bus: 'Strombus'>\", \"<oemof.solph.components._generic_storage.GenericStorage: 'Batteriespeicher'>\"])\n"
     ]
    },
    {
     "name": "stderr",
     "output_type": "stream",
     "text": [
      "/Users/pyrokar/Documents/Coding/ensys-gui-new/.venv/lib/python3.12/site-packages/oemof/solph/components/_generic_storage.py:210: FutureWarning: For backward compatibility, the option nominal_storage_capacity overwrites the option nominal_capacity. Both options cannot be set at the same time.\n",
      "  warn(msg, FutureWarning)\n"
     ]
    }
   ],
   "execution_count": 1
  },
  {
   "metadata": {
    "ExecuteTime": {
     "end_time": "2025-07-16T13:02:54.428051Z",
     "start_time": "2025-07-16T13:02:54.426831Z"
    }
   },
   "cell_type": "code",
   "source": "",
   "id": "972fee8eebcf450a",
   "outputs": [],
   "execution_count": null
  }
 ],
 "metadata": {
  "kernelspec": {
   "display_name": "Python 3",
   "language": "python",
   "name": "python3"
  },
  "language_info": {
   "codemirror_mode": {
    "name": "ipython",
    "version": 2
   },
   "file_extension": ".py",
   "mimetype": "text/x-python",
   "name": "python",
   "nbconvert_exporter": "python",
   "pygments_lexer": "ipython2",
   "version": "2.7.6"
  }
 },
 "nbformat": 4,
 "nbformat_minor": 5
}
