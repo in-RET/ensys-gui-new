{
 "cells": [
  {
   "cell_type": "code",
   "id": "initial_id",
   "metadata": {
    "collapsed": true,
    "ExecuteTime": {
     "end_time": "2025-04-02T12:00:47.271257Z",
     "start_time": "2025-04-02T12:00:47.267714Z"
    }
   },
   "source": [
    "from importlib import import_module\n",
    "from oemof import solph\n",
    "\n",
    "def get_fields_from_component(class_str: str) -> list[str]:\n",
    "    tmp_fields = []\n",
    "\n",
    "    if not class_str in [\"Bus\", \"Flow\", \"Investment\", \"NonConvex\"]:\n",
    "        module = import_module(\"oemof.solph.components\")\n",
    "        class_ = getattr(module, class_str)\n",
    "    else:\n",
    "        module = import_module(\"oemof.solph\")\n",
    "        class_ = getattr(module, class_str)()\n",
    "\n",
    "    for attr in dir(class_):\n",
    "        if not attr.startswith(\"_\"):\n",
    "            tmp_fields.append(attr)\n",
    "\n",
    "    return tmp_fields\n",
    "\n",
    "print(\"Sink:\", get_fields_from_component(\"Sink\"))\n",
    "print(\"Source:\", get_fields_from_component(\"Source\"))\n",
    "print(\"Bus:\", get_fields_from_component(\"Bus\"))\n",
    "print(\"Converter\", get_fields_from_component(\"Converter\"))\n",
    "print(\"OffsetConverter\", get_fields_from_component(\"OffsetConverter\"))\n",
    "print(\"GenericStorage\", get_fields_from_component(\"GenericStorage\"))\n",
    "print(\"Flow\", get_fields_from_component(\"Flow\"))\n",
    "print(\"Investment\", get_fields_from_component(\"Investment\"))\n",
    "print(\"NonConvex\", get_fields_from_component(\"NonConvex\"))"
   ],
   "outputs": [
    {
     "name": "stdout",
     "output_type": "stream",
     "text": [
      "Sink: ['constraint_group', 'inputs', 'label', 'outputs']\n",
      "Source: ['constraint_group', 'inputs', 'label', 'outputs']\n",
      "Bus: ['balanced', 'constraint_group', 'custom_properties', 'inputs', 'label', 'outputs']\n",
      "Converter ['constraint_group', 'inputs', 'label', 'outputs']\n",
      "OffsetConverter ['constraint_group', 'inputs', 'label', 'normed_offset_and_conversion_factors_from_coefficients', 'outputs', 'plot_partload']\n",
      "GenericStorage ['constraint_group', 'inputs', 'label', 'outputs']\n",
      "Flow ['Label', 'age', 'bidirectional', 'custom_properties', 'fix', 'fixed_costs', 'flow', 'from_object', 'full_load_time_max', 'full_load_time_min', 'input', 'integer', 'investment', 'label', 'lifetime', 'max', 'min', 'negative_gradient_limit', 'nominal_value', 'nonconvex', 'output', 'positive_gradient_limit', 'values', 'variable_costs']\n",
      "Investment ['age', 'ep_costs', 'existing', 'fixed_costs', 'interest_rate', 'lifetime', 'maximum', 'minimum', 'nonconvex', 'offset', 'overall_maximum', 'overall_minimum']\n",
      "NonConvex ['activity_costs', 'first_flexible_timestep', 'inactivity_costs', 'initial_status', 'maximum_shutdowns', 'maximum_startups', 'minimum_downtime', 'minimum_uptime', 'negative_gradient_limit', 'positive_gradient_limit', 'shutdown_costs', 'startup_costs']\n"
     ]
    }
   ],
   "execution_count": 50
  },
  {
   "metadata": {},
   "cell_type": "code",
   "outputs": [],
   "execution_count": null,
   "source": "",
   "id": "62abb685d8e804a6"
  }
 ],
 "metadata": {
  "kernelspec": {
   "display_name": "Python 3",
   "language": "python",
   "name": "python3"
  },
  "language_info": {
   "codemirror_mode": {
    "name": "ipython",
    "version": 2
   },
   "file_extension": ".py",
   "mimetype": "text/x-python",
   "name": "python",
   "nbconvert_exporter": "python",
   "pygments_lexer": "ipython2",
   "version": "2.7.6"
  }
 },
 "nbformat": 4,
 "nbformat_minor": 5
}
