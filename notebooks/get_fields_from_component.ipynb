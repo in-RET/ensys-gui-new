{
 "cells": [
  {
   "cell_type": "code",
   "id": "initial_id",
   "metadata": {
    "collapsed": true,
    "ExecuteTime": {
     "end_time": "2025-04-25T13:54:14.952780Z",
     "start_time": "2025-04-25T13:54:14.942441Z"
    }
   },
   "source": [
    "from importlib import import_module\n",
    "from oemof import solph\n",
    "\n",
    "def get_fields_from_component(class_str: str) -> list[str]:\n",
    "    pass\n",
    "\n",
    "print(vars(solph.components.Converter()))\n",
    "\n",
    "#print(\"Sink:\", get_fields_from_component(\"Sink\"))\n",
    "# print(\"Source:\", get_fields_from_component(\"Source\"))\n",
    "# print(\"Bus:\", get_fields_from_component(\"Bus\"))\n",
    "print(\"Converter\", get_fields_from_component(\"Converter\"))\n",
    "# print(\"OffsetConverter\", get_fields_from_component(\"OffsetConverter\"))\n",
    "# print(\"GenericStorage\", get_fields_from_component(\"GenericStorage\"))\n",
    "# print(\"Flow\", get_fields_from_component(\"Flow\"))\n",
    "# print(\"Investment\", get_fields_from_component(\"Investment\"))\n",
    "# print(\"NonConvex\", get_fields_from_component(\"NonConvex\"))"
   ],
   "outputs": [
    {
     "name": "stdout",
     "output_type": "stream",
     "text": [
      "{'_label': None, 'custom_properties': {}, '_inputs': '<oemof.network.network.helpers.Inputs: {}>', '_outputs': {}, '_in_edges': set(), 'conversion_factors': {}}\n",
      "Converter None\n"
     ]
    },
    {
     "name": "stderr",
     "output_type": "stream",
     "text": [
      "/Users/pyrokar/Documents/GitHub/ensys-gui-new/.venv/lib/python3.11/site-packages/oemof/solph/_helpers.py:44: SuspiciousUsageWarning: Attribute <inputs> is missing in Node <<Converter #0x115b39b10>> of <class 'oemof.solph.components._converter.Converter'>.\n",
      "If this is intended and you know what you are doing you candisable the SuspiciousUsageWarning globally.\n",
      "  warn(\n",
      "/Users/pyrokar/Documents/GitHub/ensys-gui-new/.venv/lib/python3.11/site-packages/oemof/solph/_helpers.py:44: SuspiciousUsageWarning: Attribute <outputs> is missing in Node <<Converter #0x115b39b10>> of <class 'oemof.solph.components._converter.Converter'>.\n",
      "If this is intended and you know what you are doing you candisable the SuspiciousUsageWarning globally.\n",
      "  warn(\n"
     ]
    }
   ],
   "execution_count": 34
  },
  {
   "metadata": {
    "ExecuteTime": {
     "end_time": "2025-04-25T13:53:36.902078Z",
     "start_time": "2025-04-25T13:53:36.826331Z"
    }
   },
   "cell_type": "code",
   "source": [
    "from backend.app.component.model import EnComponentsTemplate\n",
    "\n",
    "SinkTemplate = EnComponentsTemplate(\"sink_template\", \"Sink\")\n",
    "SourceTemplate = EnComponentsTemplate(\"source_template\", \"Source\")\n",
    "ConverterTemplate = EnComponentsTemplate(\"converter_template\", \"Converter\")\n",
    "OffsetConverterTemplate = EnComponentsTemplate(\"offset_converter_template\", \"OffsetConverter\")\n",
    "BusTemplate = EnComponentsTemplate(\"bus_template\", \"Bus\")\n",
    "GenericStorageTemplate = EnComponentsTemplate(\"generic_storage_template\", \"GenericStorage\")\n",
    "FlowTemplate = EnComponentsTemplate(\"flow_template\", \"Flow\")\n",
    "InvestmentTemplate = EnComponentsTemplate(\"investment_template\", \"Investment\")\n",
    "NonConvexTemplate = EnComponentsTemplate(\"nonconvex_template\", \"NonConvex\")\n",
    "\n",
    "ComponentsTemplates = [SinkTemplate, SourceTemplate, ConverterTemplate, OffsetConverterTemplate, BusTemplate,\n",
    "                       GenericStorageTemplate, FlowTemplate, InvestmentTemplate, NonConvexTemplate]\n",
    "\n",
    "for template in ComponentsTemplates:\n",
    "    print(template.model_dump())"
   ],
   "id": "62abb685d8e804a6",
   "outputs": [
    {
     "ename": "ValueError",
     "evalue": "\"EnComponentsTemplate\" object has no field \"name\"",
     "output_type": "error",
     "traceback": [
      "\u001B[31m---------------------------------------------------------------------------\u001B[39m",
      "\u001B[31mValueError\u001B[39m                                Traceback (most recent call last)",
      "\u001B[36mCell\u001B[39m\u001B[36m \u001B[39m\u001B[32mIn[33]\u001B[39m\u001B[32m, line 3\u001B[39m\n\u001B[32m      1\u001B[39m \u001B[38;5;28;01mfrom\u001B[39;00m\u001B[38;5;250m \u001B[39m\u001B[34;01mbackend\u001B[39;00m\u001B[34;01m.\u001B[39;00m\u001B[34;01mapp\u001B[39;00m\u001B[34;01m.\u001B[39;00m\u001B[34;01mcomponents\u001B[39;00m\u001B[34;01m.\u001B[39;00m\u001B[34;01mmodel\u001B[39;00m\u001B[38;5;250m \u001B[39m\u001B[38;5;28;01mimport\u001B[39;00m EnComponentsTemplate\n\u001B[32m----> \u001B[39m\u001B[32m3\u001B[39m SinkTemplate = \u001B[43mEnComponentsTemplate\u001B[49m\u001B[43m(\u001B[49m\u001B[33;43m\"\u001B[39;49m\u001B[33;43msink_template\u001B[39;49m\u001B[33;43m\"\u001B[39;49m\u001B[43m,\u001B[49m\u001B[43m \u001B[49m\u001B[33;43m\"\u001B[39;49m\u001B[33;43mSink\u001B[39;49m\u001B[33;43m\"\u001B[39;49m\u001B[43m)\u001B[49m\n\u001B[32m      4\u001B[39m SourceTemplate = EnComponentsTemplate(\u001B[33m\"\u001B[39m\u001B[33msource_template\u001B[39m\u001B[33m\"\u001B[39m, \u001B[33m\"\u001B[39m\u001B[33mSource\u001B[39m\u001B[33m\"\u001B[39m)\n\u001B[32m      5\u001B[39m ConverterTemplate = EnComponentsTemplate(\u001B[33m\"\u001B[39m\u001B[33mconverter_template\u001B[39m\u001B[33m\"\u001B[39m, \u001B[33m\"\u001B[39m\u001B[33mConverter\u001B[39m\u001B[33m\"\u001B[39m)\n",
      "\u001B[36mFile \u001B[39m\u001B[32m<string>:4\u001B[39m, in \u001B[36m__init__\u001B[39m\u001B[34m(self, name, oemof_type, **kwargs)\u001B[39m\n",
      "\u001B[36mFile \u001B[39m\u001B[32m~/Documents/GitHub/ensys-gui-new/.venv/lib/python3.11/site-packages/sqlalchemy/orm/state.py:571\u001B[39m, in \u001B[36mInstanceState._initialize_instance\u001B[39m\u001B[34m(*mixed, **kwargs)\u001B[39m\n\u001B[32m    569\u001B[39m     manager.original_init(*mixed[\u001B[32m1\u001B[39m:], **kwargs)\n\u001B[32m    570\u001B[39m \u001B[38;5;28;01mexcept\u001B[39;00m:\n\u001B[32m--> \u001B[39m\u001B[32m571\u001B[39m \u001B[43m    \u001B[49m\u001B[38;5;28;43;01mwith\u001B[39;49;00m\u001B[43m \u001B[49m\u001B[43mutil\u001B[49m\u001B[43m.\u001B[49m\u001B[43msafe_reraise\u001B[49m\u001B[43m(\u001B[49m\u001B[43m)\u001B[49m\u001B[43m:\u001B[49m\n\u001B[32m    572\u001B[39m \u001B[43m        \u001B[49m\u001B[43mmanager\u001B[49m\u001B[43m.\u001B[49m\u001B[43mdispatch\u001B[49m\u001B[43m.\u001B[49m\u001B[43minit_failure\u001B[49m\u001B[43m(\u001B[49m\u001B[38;5;28;43mself\u001B[39;49m\u001B[43m,\u001B[49m\u001B[43m \u001B[49m\u001B[43margs\u001B[49m\u001B[43m,\u001B[49m\u001B[43m \u001B[49m\u001B[43mkwargs\u001B[49m\u001B[43m)\u001B[49m\n",
      "\u001B[36mFile \u001B[39m\u001B[32m~/Documents/GitHub/ensys-gui-new/.venv/lib/python3.11/site-packages/sqlalchemy/util/langhelpers.py:146\u001B[39m, in \u001B[36msafe_reraise.__exit__\u001B[39m\u001B[34m(self, type_, value, traceback)\u001B[39m\n\u001B[32m    144\u001B[39m     \u001B[38;5;28;01massert\u001B[39;00m exc_value \u001B[38;5;129;01mis\u001B[39;00m \u001B[38;5;129;01mnot\u001B[39;00m \u001B[38;5;28;01mNone\u001B[39;00m\n\u001B[32m    145\u001B[39m     \u001B[38;5;28mself\u001B[39m._exc_info = \u001B[38;5;28;01mNone\u001B[39;00m  \u001B[38;5;66;03m# remove potential circular references\u001B[39;00m\n\u001B[32m--> \u001B[39m\u001B[32m146\u001B[39m     \u001B[38;5;28;01mraise\u001B[39;00m exc_value.with_traceback(exc_tb)\n\u001B[32m    147\u001B[39m \u001B[38;5;28;01melse\u001B[39;00m:\n\u001B[32m    148\u001B[39m     \u001B[38;5;28mself\u001B[39m._exc_info = \u001B[38;5;28;01mNone\u001B[39;00m  \u001B[38;5;66;03m# remove potential circular references\u001B[39;00m\n",
      "\u001B[36mFile \u001B[39m\u001B[32m~/Documents/GitHub/ensys-gui-new/.venv/lib/python3.11/site-packages/sqlalchemy/orm/state.py:569\u001B[39m, in \u001B[36mInstanceState._initialize_instance\u001B[39m\u001B[34m(*mixed, **kwargs)\u001B[39m\n\u001B[32m    566\u001B[39m manager.dispatch.init(\u001B[38;5;28mself\u001B[39m, args, kwargs)\n\u001B[32m    568\u001B[39m \u001B[38;5;28;01mtry\u001B[39;00m:\n\u001B[32m--> \u001B[39m\u001B[32m569\u001B[39m     \u001B[43mmanager\u001B[49m\u001B[43m.\u001B[49m\u001B[43moriginal_init\u001B[49m\u001B[43m(\u001B[49m\u001B[43m*\u001B[49m\u001B[43mmixed\u001B[49m\u001B[43m[\u001B[49m\u001B[32;43m1\u001B[39;49m\u001B[43m:\u001B[49m\u001B[43m]\u001B[49m\u001B[43m,\u001B[49m\u001B[43m \u001B[49m\u001B[43m*\u001B[49m\u001B[43m*\u001B[49m\u001B[43mkwargs\u001B[49m\u001B[43m)\u001B[49m\n\u001B[32m    570\u001B[39m \u001B[38;5;28;01mexcept\u001B[39;00m:\n\u001B[32m    571\u001B[39m     \u001B[38;5;28;01mwith\u001B[39;00m util.safe_reraise():\n",
      "\u001B[36mFile \u001B[39m\u001B[32m~/Documents/GitHub/ensys-gui-new/backend/app/components/model.py:21\u001B[39m, in \u001B[36mEnComponentsTemplate.__init__\u001B[39m\u001B[34m(self, name, oemof_type, **kwargs)\u001B[39m\n\u001B[32m     19\u001B[39m \u001B[38;5;28;01mdef\u001B[39;00m\u001B[38;5;250m \u001B[39m\u001B[34m__init__\u001B[39m(\u001B[38;5;28mself\u001B[39m, name: \u001B[38;5;28mstr\u001B[39m, oemof_type: \u001B[38;5;28mstr\u001B[39m, **kwargs: Any):\n\u001B[32m     20\u001B[39m     \u001B[38;5;28msuper\u001B[39m().\u001B[34m__init__\u001B[39m(**kwargs)\n\u001B[32m---> \u001B[39m\u001B[32m21\u001B[39m     \u001B[38;5;28;43mself\u001B[39;49m\u001B[43m.\u001B[49m\u001B[43mname\u001B[49m = name\n\u001B[32m     22\u001B[39m     \u001B[38;5;28mself\u001B[39m.oemof_type = oemof_type\n\u001B[32m     23\u001B[39m     \u001B[38;5;28mself\u001B[39m.fields = \u001B[38;5;28mself\u001B[39m.__populate_fields__()\n",
      "\u001B[36mFile \u001B[39m\u001B[32m~/Documents/GitHub/ensys-gui-new/.venv/lib/python3.11/site-packages/sqlmodel/main.py:824\u001B[39m, in \u001B[36mSQLModel.__setattr__\u001B[39m\u001B[34m(self, name, value)\u001B[39m\n\u001B[32m    821\u001B[39m \u001B[38;5;66;03m# Set in Pydantic model to trigger possible validation changes, only for\u001B[39;00m\n\u001B[32m    822\u001B[39m \u001B[38;5;66;03m# non relationship values\u001B[39;00m\n\u001B[32m    823\u001B[39m \u001B[38;5;28;01mif\u001B[39;00m name \u001B[38;5;129;01mnot\u001B[39;00m \u001B[38;5;129;01min\u001B[39;00m \u001B[38;5;28mself\u001B[39m.__sqlmodel_relationships__:\n\u001B[32m--> \u001B[39m\u001B[32m824\u001B[39m     \u001B[38;5;28;43msuper\u001B[39;49m\u001B[43m(\u001B[49m\u001B[43m)\u001B[49m\u001B[43m.\u001B[49m\u001B[34;43m__setattr__\u001B[39;49m\u001B[43m(\u001B[49m\u001B[43mname\u001B[49m\u001B[43m,\u001B[49m\u001B[43m \u001B[49m\u001B[43mvalue\u001B[49m\u001B[43m)\u001B[49m\n",
      "\u001B[36mFile \u001B[39m\u001B[32m~/Documents/GitHub/ensys-gui-new/.venv/lib/python3.11/site-packages/pydantic/main.py:925\u001B[39m, in \u001B[36mBaseModel.__setattr__\u001B[39m\u001B[34m(self, name, value)\u001B[39m\n\u001B[32m    922\u001B[39m     \u001B[38;5;28mself\u001B[39m.__pydantic_validator__.validate_assignment(\u001B[38;5;28mself\u001B[39m, name, value)\n\u001B[32m    923\u001B[39m \u001B[38;5;28;01melif\u001B[39;00m \u001B[38;5;28mself\u001B[39m.model_config.get(\u001B[33m'\u001B[39m\u001B[33mextra\u001B[39m\u001B[33m'\u001B[39m) != \u001B[33m'\u001B[39m\u001B[33mallow\u001B[39m\u001B[33m'\u001B[39m \u001B[38;5;129;01mand\u001B[39;00m name \u001B[38;5;129;01mnot\u001B[39;00m \u001B[38;5;129;01min\u001B[39;00m \u001B[38;5;28mself\u001B[39m.__pydantic_fields__:\n\u001B[32m    924\u001B[39m     \u001B[38;5;66;03m# TODO - matching error\u001B[39;00m\n\u001B[32m--> \u001B[39m\u001B[32m925\u001B[39m     \u001B[38;5;28;01mraise\u001B[39;00m \u001B[38;5;167;01mValueError\u001B[39;00m(\u001B[33mf\u001B[39m\u001B[33m'\u001B[39m\u001B[33m\"\u001B[39m\u001B[38;5;132;01m{\u001B[39;00m\u001B[38;5;28mself\u001B[39m.\u001B[34m__class__\u001B[39m.\u001B[34m__name__\u001B[39m\u001B[38;5;132;01m}\u001B[39;00m\u001B[33m\"\u001B[39m\u001B[33m object has no field \u001B[39m\u001B[33m\"\u001B[39m\u001B[38;5;132;01m{\u001B[39;00mname\u001B[38;5;132;01m}\u001B[39;00m\u001B[33m\"\u001B[39m\u001B[33m'\u001B[39m)\n\u001B[32m    926\u001B[39m \u001B[38;5;28;01melif\u001B[39;00m \u001B[38;5;28mself\u001B[39m.model_config.get(\u001B[33m'\u001B[39m\u001B[33mextra\u001B[39m\u001B[33m'\u001B[39m) == \u001B[33m'\u001B[39m\u001B[33mallow\u001B[39m\u001B[33m'\u001B[39m \u001B[38;5;129;01mand\u001B[39;00m name \u001B[38;5;129;01mnot\u001B[39;00m \u001B[38;5;129;01min\u001B[39;00m \u001B[38;5;28mself\u001B[39m.__pydantic_fields__:\n\u001B[32m    927\u001B[39m     \u001B[38;5;28;01mif\u001B[39;00m \u001B[38;5;28mself\u001B[39m.model_extra \u001B[38;5;129;01mand\u001B[39;00m name \u001B[38;5;129;01min\u001B[39;00m \u001B[38;5;28mself\u001B[39m.model_extra:\n",
      "\u001B[31mValueError\u001B[39m: \"EnComponentsTemplate\" object has no field \"name\""
     ]
    }
   ],
   "execution_count": 33
  },
  {
   "metadata": {},
   "cell_type": "code",
   "outputs": [],
   "execution_count": null,
   "source": "",
   "id": "5d3362ad4c8f821f"
  }
 ],
 "metadata": {
  "kernelspec": {
   "display_name": "Python 3",
   "language": "python",
   "name": "python3"
  },
  "language_info": {
   "codemirror_mode": {
    "name": "ipython",
    "version": 2
   },
   "file_extension": ".py",
   "mimetype": "text/x-python",
   "name": "python",
   "nbconvert_exporter": "python",
   "pygments_lexer": "ipython2",
   "version": "2.7.6"
  }
 },
 "nbformat": 4,
 "nbformat_minor": 5
}
