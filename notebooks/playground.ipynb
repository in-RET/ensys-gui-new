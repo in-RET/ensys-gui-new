{
 "cells": [
  {
   "cell_type": "code",
   "id": "initial_id",
   "metadata": {
    "collapsed": true,
    "ExecuteTime": {
     "end_time": "2025-08-19T11:00:07.324435Z",
     "start_time": "2025-08-19T11:00:07.323037Z"
    }
   },
   "source": [
    "from backend.app.ensys.components import EnInvestment\n",
    "from oemof import solph\n",
    "\n",
    "bus1 = solph.Bus(label=\"Bus1\")\n",
    "bus2 = solph.Bus(label=\"Bus2\")\n",
    "\n",
    "es = solph.EnergySystem()\n",
    "es.add(bus1, bus2)\n",
    "\n",
    "\n",
    "example_invest = EnInvestment(\n",
    "    maximum=10000,\n",
    "    minimum=100,\n",
    "    ep_costs=1239.3,\n",
    "    existing=85,\n",
    "    nonconvex=False,\n",
    "    offset=0\n",
    ")\n",
    "\n",
    "oe_invest = example_invest.to_oemof(es)\n",
    "print(f\"example_invest: {example_invest.ep_costs}\")\n",
    "print(f\"oe_invest: {oe_invest.ep_costs}\")"
   ],
   "outputs": [],
   "execution_count": null
  },
  {
   "metadata": {
    "ExecuteTime": {
     "end_time": "2025-08-19T08:57:45.564880Z",
     "start_time": "2025-08-19T08:57:45.558374Z"
    }
   },
   "cell_type": "code",
   "source": [
    "from oemof.solph import sequence\n",
    "\n",
    "ep_costs = 1239.3\n",
    "seq_ep_costs = sequence(ep_costs)\n",
    "\n",
    "print(f\"ep_costs: {ep_costs}\")\n",
    "print(f\"seq_ep_costs: {seq_ep_costs}\")\n",
    "print(f\"{type(seq_ep_costs)}\")"
   ],
   "id": "e30aa0a2cdb67e7e",
   "outputs": [
    {
     "name": "stdout",
     "output_type": "stream",
     "text": [
      "ep_costs: 1239.3\n",
      "seq_ep_costs: [1239.3, 1239.3, ..., 1239.3]\n",
      "<class 'oemof.solph._plumbing._FakeSequence'>\n"
     ]
    }
   ],
   "execution_count": 5
  },
  {
   "metadata": {},
   "cell_type": "code",
   "outputs": [],
   "execution_count": null,
   "source": "",
   "id": "cdf13062fc8e5710"
  }
 ],
 "metadata": {
  "kernelspec": {
   "display_name": "Python 3",
   "language": "python",
   "name": "python3"
  },
  "language_info": {
   "codemirror_mode": {
    "name": "ipython",
    "version": 2
   },
   "file_extension": ".py",
   "mimetype": "text/x-python",
   "name": "python",
   "nbconvert_exporter": "python",
   "pygments_lexer": "ipython2",
   "version": "2.7.6"
  }
 },
 "nbformat": 4,
 "nbformat_minor": 5
}
