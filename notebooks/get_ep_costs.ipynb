{
 "cells": [
  {
   "cell_type": "code",
   "id": "initial_id",
   "metadata": {
    "collapsed": true,
    "ExecuteTime": {
     "end_time": "2025-05-21T15:02:23.721613Z",
     "start_time": "2025-05-21T15:02:23.707885Z"
    }
   },
   "source": [
    "from oemof.tools import economics\n",
    "\n",
    "data = {\n",
    "                            \"capex\": 800000.0,\n",
    "                            \"opex\": 3.1,\n",
    "                            \"lifetime\": 25\n",
    "}\n",
    "\n",
    "epc_costs = economics.annuity(\n",
    "    capex=data[\"capex\"],\n",
    "    n=data[\"lifetime\"],\n",
    "    wacc=data[\"opex\"]/100\n",
    ")\n",
    "\n",
    "print(epc_costs)"
   ],
   "outputs": [
    {
     "name": "stdout",
     "output_type": "stream",
     "text": [
      "46455.71400381673\n"
     ]
    }
   ],
   "execution_count": 7
  },
  {
   "metadata": {},
   "cell_type": "code",
   "outputs": [],
   "execution_count": null,
   "source": "",
   "id": "297a2fedc02887bd"
  }
 ],
 "metadata": {
  "kernelspec": {
   "display_name": "Python 3",
   "language": "python",
   "name": "python3"
  },
  "language_info": {
   "codemirror_mode": {
    "name": "ipython",
    "version": 2
   },
   "file_extension": ".py",
   "mimetype": "text/x-python",
   "name": "python",
   "nbconvert_exporter": "python",
   "pygments_lexer": "ipython2",
   "version": "2.7.6"
  }
 },
 "nbformat": 4,
 "nbformat_minor": 5
}
