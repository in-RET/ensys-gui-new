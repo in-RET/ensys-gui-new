{
 "cells": [
  {
   "cell_type": "code",
   "id": "initial_id",
   "metadata": {
    "collapsed": true,
    "ExecuteTime": {
     "end_time": "2025-06-17T08:20:34.649354Z",
     "start_time": "2025-06-17T08:20:34.132229Z"
    }
   },
   "source": [
    "import pandas as pd\n",
    "\n",
    "from oep_client.oep_client import OepClient\n",
    "\n",
    "topic = \"model_draft\"\n",
    "token = \"a63b81b1b2cc58ebba43da5140bd61e4f20c62d1\"\n",
    "\n",
    "oep_cli = OepClient(\n",
    "    token=token,\n",
    "    default_schema=topic\n",
    ")\n",
    "\n",
    "table = \"parameter_onshore_wind_power_plant_inret_86\"\n",
    "\n",
    "oep_cli.drop_table(table)\n",
    "#data = oep_cli.select_from_table(table)"
   ],
   "outputs": [
    {
     "data": {
      "text/plain": [
       "{}"
      ]
     },
     "execution_count": 1,
     "metadata": {},
     "output_type": "execute_result"
    }
   ],
   "execution_count": 1
  },
  {
   "metadata": {
    "ExecuteTime": {
     "end_time": "2025-06-17T07:40:16.328579Z",
     "start_time": "2025-06-17T07:40:16.315660Z"
    }
   },
   "cell_type": "code",
   "source": [
    "df = pd.DataFrame(\n",
    "    data\n",
    ").drop(\n",
    "    labels=\"id\",\n",
    "    axis=1\n",
    ")\n",
    "\n",
    "print(df)"
   ],
   "id": "4cc292de5979f37c",
   "outputs": [
    {
     "name": "stdout",
     "output_type": "stream",
     "text": [
      "      wind_east  wind_swest  wind_north  wind_middle\n",
      "0      0.034175    0.065541    0.034175     0.010716\n",
      "1      0.026295    0.038689    0.033377     0.012131\n",
      "2      0.012131    0.019597    0.012131     0.002470\n",
      "3      0.026738    0.037863    0.026738     0.010830\n",
      "4      0.021426    0.038689    0.038689     0.012131\n",
      "...         ...         ...         ...          ...\n",
      "8755   0.173827    0.124711    0.140453     0.234455\n",
      "8756   0.075893    0.051304    0.062874     0.106245\n",
      "8757   0.012984    0.002833    0.007437     0.012984\n",
      "8758   0.000787    0.000000    0.000131     0.000984\n",
      "8759   0.000884    0.000000    0.000000     0.000787\n",
      "\n",
      "[8760 rows x 4 columns]\n"
     ]
    }
   ],
   "execution_count": 100
  },
  {
   "metadata": {},
   "cell_type": "code",
   "outputs": [],
   "execution_count": null,
   "source": "",
   "id": "8fd5a1a0dc46cf74"
  }
 ],
 "metadata": {
  "kernelspec": {
   "display_name": "Python 3",
   "language": "python",
   "name": "python3"
  },
  "language_info": {
   "codemirror_mode": {
    "name": "ipython",
    "version": 2
   },
   "file_extension": ".py",
   "mimetype": "text/x-python",
   "name": "python",
   "nbconvert_exporter": "python",
   "pygments_lexer": "ipython2",
   "version": "2.7.6"
  }
 },
 "nbformat": 4,
 "nbformat_minor": 5
}
